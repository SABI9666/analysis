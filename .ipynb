
from google.colab import drive
from IPython.display import HTML, display

# --- Step 2: Mount your Google Drive ---
# This will prompt you for authorization. Follow the on-screen instructions.
try:
    drive.mount('/content/drive')
    print("Google Drive mounted successfully!")
except Exception as e:
    print(f"An error occurred while mounting Google Drive: {e}")

# --- Step 3: Define the complete HTML content for the dashboard ---
# This multi-line string contains the full HTML, CSS, and JavaScript for your dashboard.
# Remember to replace the placeholder Google Sheet URLs with your own.
html_content = '''
<!DOCTYPE html>
<html lang="en">
<head>
    <meta charset="UTF-8">
    <meta name="viewport" content="width=device-width, initial-scale=1.0">
    <title>Production Analytics Dashboard</title>
    <script src="https://cdnjs.cloudflare.com/ajax/libs/Chart.js/3.9.1/chart.min.js"></script>
    <style>
        /* Basic reset for all elements */
        * { margin: 0; padding: 0; box-sizing: border-box; }
        /* Body styling with a gradient background, minimum height, and padding */
        body {
            font-family: Arial, sans-serif;
            background: linear-gradient(135deg, #667eea 0%, #764ba2 100%);
            min-height: 100vh;
            padding: 15px;
        }
        /* Container for centralizing content with a maximum width */
        .container { max-width: 1200px; margin: 0 auto; }
        /* Header styling for title and subtitle */
        .header { text-align: center; color: white; margin-bottom: 25px; }
        .header h1 { font-size: 2rem; text-shadow: 0 4px 20px rgba(0,0,0,0.3); }
        /* Styling for control panel and dashboard sections */
        .control-panel, .dashboard {
            background: rgba(255,255,255,0.95);
            border-radius: 15px;
            padding: 20px;
            margin-bottom: 20px;
            box-shadow: 0 10px 25px rgba(0,0,0,0.15);
        }
        /* Button styling with a gradient background */
        .btn {
            background: linear-gradient(135deg, #667eea, #764ba2);
            border: none;
            color: white;
            padding: 10px 20px;
            border-radius: 8px;
            cursor: pointer;
            margin: 5px;
        }
        /* Hover effect for buttons */
        .btn:hover { opacity: 0.9; }
        /* Styling for select dropdowns */
        select {
            background: #667eea;
            color: white;
            border: none;
            padding: 10px 15px;
            border-radius: 8px;
            margin: 5px;
        }
        /* Grid layout for statistic cards */
        .stats-grid {
            display: grid;
            grid-template-columns: repeat(auto-fit, minmax(180px, 1fr));
            gap: 15px;
            margin-bottom: 25px;
        }
        /* Styling for individual statistic cards */
        .stat-card {
            background: linear-gradient(135deg, #667eea, #764ba2);
            color: white;
            padding: 15px;
            border-radius: 10px;
            text-align: center;
        }
        /* Styling for the value in stat cards */
        .stat-value { font-size: 1.8rem; font-weight: 700; }
        /* Grid layout for charts */
        .charts-grid {
            display: grid;
            grid-template-columns: repeat(auto-fit, minmax(350px, 1fr));
            gap: 20px;
            margin-bottom: 20px;
        }
        /* Styling for chart containers */
        .chart-container {
            background: white;
            border-radius: 10px;
            padding: 15px;
            height: 350px;
        }
        /* Styling for chart titles */
        .chart-title { font-size: 1.1rem; font-weight: 700; text-align: center; margin-bottom: 10px; }
        /* Grid layout for analysis sections */
        .analysis-section {
            display: grid;
            grid-template-columns: repeat(auto-fit, minmax(300px, 1fr)); /* Adjusted for more flexibility */
            gap: 20px;
        }
        /* Styling for analysis cards */
        .analysis-card {
            background: #f0f9ff;
            border-radius: 10px;
            padding: 20px;
            border: 2px solid #0284c7;
        }
        /* Styling for individual operator items in analysis cards */
        .operator-item {
            background: rgba(255,255,255,0.9);
            margin: 8px 0;
            padding: 12px;
            border-radius: 8px;
            display: flex;
            justify-content: space-between;
        }
        /* Loading message styling */
        #loadingMessage {
            text-align: center;
            color: white;
            margin-top: 20px;
            font-size: 1.2rem;
        }
    </style>
</head>
<body>
    <div class="container">
        <div class="header">
            <h1>🏭 Production Analytics</h1>
            <p>Quantity & Performance Dashboard</p>
        </div>

        <div class="control-panel">
            <button class="btn" onclick="loadData()">🚀 Load Data</button>
            <select id="weekSelector" onchange="selectWeek(this.value)">
                <option value="">📅 Select Week...</option>
            </select>
            <button class="btn" onclick="refreshData()">🔄 Refresh</button>
        </div>

        <div id="loadingMessage" style="display: none;">Loading data...</div>

        <div class="dashboard">
            <div class="stats-grid">
                <div class="stat-card">
                    <div class="stat-value" id="totalTonnage">0</div>
                    <div>Total Quantity</div>
                </div>
                <div class="stat-card">
                    <div class="stat-value" id="fabricationTonnage">0</div>
                    <div>Fabrication Qty</div>
                </div>
                <div class="stat-card">
                    <div class="stat-value" id="machiningTonnage">0</div>
                    <div>Machining Qty</div>
                </div>
                <div class="stat-card">
                    <div class="stat-value" id="scrapTonnage">0</div>
                    <div>Total Scrap</div>
                </div>
                <div class="stat-card">
                    <div class="stat-value" id="totalOperators">0</div>
                    <div>Operators</div>
                </div>
                <div class="stat-card">
                    <div class="stat-value" id="avgTonnage">0</div>
                    <div>Avg Qty/Operator</div>
                </div>
            </div>

            <div class="charts-grid">
                <div class="chart-container">
                    <div class="chart-title">📊 Activity Performance (Quantity)</div>
                    <canvas id="activityChart"></canvas>
                </div>
                <div class="chart-container">
                    <div class="chart-title">👥 Operator Output (Quantity)</div>
                    <canvas id="operatorChart"></canvas>
                </div>
                 <div class="chart-container">
                    <div class="chart-title">⚙️ Fab vs Machining (Quantity)</div>
                    <canvas id="comparisonChart"></canvas>
                </div>
                <div class="chart-container">
                    <div class="chart-title">🗑️ Scrap by Activity</div>
                    <canvas id="scrapActivityChart"></canvas>
                </div>
            </div>

            <div class="analysis-section">
                <div class="analysis-card">
                    <h3>🏆 Top Performers (Quantity & Scrap)</h3>
                    <div id="topOperators"></div>
                </div>
                <div class="analysis-card">
                    <h3>📊 Overall Scrap Analysis</h3>
                    <div id="overallScrapAnalysis"></div>
                </div>
                <div class="analysis-card">
                    <h3>📉 Scrap by Activity Details</h3>
                    <div id="activityScrapAnalysis"></div>
                </div>
            </div>
        </div>
    </div>

    <script>
        // DATA will now be populated from a fetch request
        let DATA = { fab: [], mach: [] };
        let processedData = {}, charts = {}, selectedWeekData = null;
        const loadingMessage = document.getElementById('loadingMessage');

        // URLs for your CSV data from Google Sheets
        // Ensure these URLs are 'published to the web' as CSV
        // !!! IMPORTANT: Replace these with your actual Google Sheet URLs !!!
        const FABRICATION_DATA_URL = 'https://docs.google.com/spreadsheets/d/e/2PACX-1vTLU1qKMHsLrjlAcnGj3oKUzWxIFnbiHBtvQ8BJFFgZzl0BMkxUlYVZYgN7mtIuQ0acVWjLi69Etbr7/pub?gid=1496141867&single=true&output=csv';
        const MACHINING_DATA_URL = 'https://docs.google.com/spreadsheets/d/e/2PACX-1vTLU1qKMHsLrjlAcnGj3oKUzWxIFnbiHBtvQ8BJFFgZzl0BMkxUlYVZYgN7mtIuQ0acVWjLi69Etbr7/pub?gid=1704946606&single=true&output=csv';

        /**
         * Parses CSV text into an array of objects.
         */
        function parseCSV(csvText, sheetType) {
            console.log(`Starting parseCSV for ${sheetType} sheet...`);
            const lines = csvText.trim().split('\\n');
            if (lines.length === 0) {
                console.warn(`CSV text for ${sheetType} is empty.`);
                return [];
            }

            const headers = lines[0].split(',').map(header => header.trim());
            const data = [];

            for (let i = 1; i < lines.length; i++) {
                const values = lines[i].split(',').map(value => value.trim());
                if (values.length !== headers.length) {
                    console.warn(`Skipping malformed CSV row for ${sheetType}:`, lines[i]);
                    continue;
                }
                const rowObject = {};
                headers.forEach((header, index) => {
                    let value = values[index];
                    if (header === 'Qty' || header === 'Scrap') {
                            const parsedValue = parseFloat(value);
                            rowObject[header] = isNaN(parsedValue) ? 0 : parsedValue;
                            if (isNaN(parsedValue) && value !== '') {
                                console.warn(`Could not parse "${value}" as number for header "${header}". Defaulting to 0.`);
                            }
                    } else {
                        rowObject[header] = value;
                    }
                });
                data.push(rowObject);
            }
            return data;
        }

        /**
         * Calculates the week number for a given date string.
         */
        function getWeekString(dateStr) {
            const date = new Date(dateStr);
            if (isNaN(date.getTime())) {
                console.warn(`Invalid date string: "${dateStr}".`);
                return '';
            }
            const year = date.getFullYear();
            const onejan = new Date(year, 0, 1);
            const week = Math.ceil((((date - onejan) / 86400000) + onejan.getDay() + 1) / 7);
            return `${year}-W${week.toString().padStart(2, '0')}`;
        }

        /**
         * Fetches data, processes it, and populates the week selector.
         */
        async function loadData() {
            loadingMessage.style.display = 'block';
            loadingMessage.textContent = 'Loading data...';
            try {
                const [fabResponse, machResponse] = await Promise.all([
                    fetch(FABRICATION_DATA_URL),
                    fetch(MACHINING_DATA_URL)
                ]);

                if (!fabResponse.ok) throw new Error(`HTTP error! status: ${fabResponse.status} for Fabrication data`);
                if (!machResponse.ok) throw new Error(`HTTP error! status: ${machResponse.status} for Machining data`);

                const [fabCsvText, machCsvText] = await Promise.all([
                    fabResponse.text(),
                    machResponse.text()
                ]);

                DATA.fab = parseCSV(fabCsvText, 'fab');
                DATA.mach = parseCSV(machCsvText, 'mach');

                const weeks = {};
                [...DATA.fab, ...DATA.mach].forEach(row => {
                    if (row.Date) {
                        const week = getWeekString(row.Date);
                        if (week) {
                            if (!weeks[week]) weeks[week] = { fab: [], mach: [] };
                            // Determine if the row is from fab or mach based on presence of 'Activity Type'
                            if (row['Activity Type'] !== undefined) {
                                weeks[week].fab.push(row);
                            } else {
                                weeks[week].mach.push(row);
                            }
                        }
                    }
                });

                const weeksList = Object.keys(weeks).sort().reverse();
                processedData = weeks;
                const selector = document.getElementById('weekSelector');
                selector.innerHTML = '<option value="">📅 Select Week...</option>';
                weeksList.forEach(week => {
                    const option = document.createElement('option');
                    option.value = week;
                    option.textContent = week;
                    selector.appendChild(option);
                });

                if (weeksList.length > 0) {
                    selector.value = weeksList[0];
                    selectWeek(weeksList[0]);
                } else {
                    selectWeek(''); // Clear dashboard if no data
                }

            } catch (error) {
                console.error("Could not fetch or process data:", error);
                loadingMessage.textContent = 'Failed to load data. Check console and Google Sheet URLs.';
            } finally {
                loadingMessage.style.display = 'none';
            }
        }
        
        /**
         * Selects a week and updates the entire dashboard.
         */
        function selectWeek(week) {
            selectedWeekData = week ? processedData[week] : { fab: [], mach: [] };
            updateDashboard();
            updateCharts();
            updateAnalysis();
        }

        /**
         * Updates the key performance indicator (KPI) cards.
         */
        function updateDashboard() {
            const fabTotalQty = selectedWeekData.fab.reduce((sum, row) => sum + (row.Qty || 0), 0);
            const machTotalQty = selectedWeekData.mach.reduce((sum, row) => sum + (row.Qty || 0), 0);
            const scrapTotal = selectedWeekData.fab.reduce((sum, row) => sum + (row.Scrap || 0), 0);
            const operators = new Set([
                ...selectedWeekData.fab.map(r => r.Operator),
                ...selectedWeekData.mach.map(r => r.Operator)
            ].filter(Boolean)).size;
            
            document.getElementById('totalTonnage').textContent = (fabTotalQty + machTotalQty).toFixed(1);
            document.getElementById('fabricationTonnage').textContent = fabTotalQty.toFixed(1);
            document.getElementById('machiningTonnage').textContent = machTotalQty.toFixed(1);
            document.getElementById('scrapTonnage').textContent = scrapTotal.toFixed(1);
            document.getElementById('totalOperators').textContent = operators;
            document.getElementById('avgTonnage').textContent = operators > 0 ? ((fabTotalQty + machTotalQty) / operators).toFixed(1) : '0.0';
        }

        /**
         * Updates all Chart.js graphs.
         */
        function updateCharts() {
            Object.values(charts).forEach(chart => chart && chart.destroy());
            
            if (!selectedWeekData) return;

            // Activity Performance (Pie)
            const activityQtyData = selectedWeekData.fab.reduce((acc, row) => {
                acc[row['Activity Type']] = (acc[row['Activity Type']] || 0) + (row.Qty || 0);
                return acc;
            }, {});
            charts.activity = new Chart(document.getElementById('activityChart'), {
                type: 'pie',
                data: {
                    labels: Object.keys(activityQtyData),
                    datasets: [{ data: Object.values(activityQtyData), backgroundColor: ['#ff6b6b', '#4ecdc4', '#45b7d1', '#a262cc', '#f1c40f'], hoverOffset: 4 }]
                },
                options: { responsive: true, maintainAspectRatio: false, plugins: { legend: { position: 'right' } } }
            });

            // Operator Output (Bar)
            const operatorData = [...selectedWeekData.fab, ...selectedWeekData.mach].reduce((acc, row) => {
                acc[row.Operator] = (acc[row.Operator] || 0) + (row.Qty || 0);
                return acc;
            }, {});
            charts.operator = new Chart(document.getElementById('operatorChart'), {
                type: 'bar',
                data: {
                    labels: Object.keys(operatorData),
                    datasets: [{ data: Object.values(operatorData), backgroundColor: '#667eea', borderRadius: 5 }]
                },
                options: { responsive: true, maintainAspectRatio: false, plugins: { legend: { display: false } } }
            });

            // Fab vs Machining (Doughnut)
            const fabTotalQty = selectedWeekData.fab.reduce((sum, row) => sum + (row.Qty || 0), 0);
            const machTotalQty = selectedWeekData.mach.reduce((sum, row) => sum + (row.Qty || 0), 0);
            charts.comparison = new Chart(document.getElementById('comparisonChart'), {
                type: 'doughnut',
                data: {
                    labels: ['Fabrication', 'Machining'],
                    datasets: [{ data: [fabTotalQty, machTotalQty], backgroundColor: ['#667eea', '#764ba2'] }]
                },
                options: { responsive: true, maintainAspectRatio: false }
            });

            // Scrap by Activity (Pie)
            const activityScrapData = selectedWeekData.fab.reduce((acc, row) => {
                acc[row['Activity Type']] = (acc[row['Activity Type']] || 0) + (row.Scrap || 0);
                return acc;
            }, {});
            charts.scrapActivity = new Chart(document.getElementById('scrapActivityChart'), {
                type: 'pie',
                data: {
                    labels: Object.keys(activityScrapData),
                    datasets: [{ data: Object.values(activityScrapData), backgroundColor: ['#e74c3c', '#2ecc71', '#3498db', '#f39c12', '#9b59b6'], hoverOffset: 4 }]
                },
                options: { responsive: true, maintainAspectRatio: false, plugins: { legend: { position: 'right' } } }
            });
        }

        /**
         * Updates the text-based analysis sections.
         */
        function updateAnalysis() {
            if (!selectedWeekData) {
                document.getElementById('topOperators').innerHTML = '';
                document.getElementById('overallScrapAnalysis').innerHTML = '';
                document.getElementById('activityScrapAnalysis').innerHTML = '';
                return;
            }

            // Top Performers
            const operatorStats = [...selectedWeekData.fab, ...selectedWeekData.mach].reduce((acc, row) => {
                if (!acc[row.Operator]) acc[row.Operator] = { qty: 0, scrap: 0 };
                acc[row.Operator].qty += (row.Qty || 0);
                acc[row.Operator].scrap += (row.Scrap || 0); // Note: Scrap is only in fab data
                return acc;
            }, {});
            const topOps = Object.entries(operatorStats).sort(([,a], [,b]) => b.qty - a.qty).slice(0, 5);
            document.getElementById('topOperators').innerHTML = topOps.map(([name, stats]) => `
                <div class="operator-item">
                    <div>${name}</div>
                    <div>Q: ${stats.qty.toFixed(1)} &nbsp;&nbsp; S: ${stats.scrap.toFixed(1)}</div>
                </div>`).join('');

            // Overall Scrap Analysis
            const totalQty = selectedWeekData.fab.reduce((s, r) => s + (r.Qty || 0), 0) + selectedWeekData.mach.reduce((s, r) => s + (r.Qty || 0), 0);
            const totalScrap = selectedWeekData.fab.reduce((s, r) => s + (r.Scrap || 0), 0);
            const scrapRate = totalQty > 0 ? ((totalScrap / totalQty) * 100).toFixed(1) : 0;
            document.getElementById('overallScrapAnalysis').innerHTML = `
                <div class="operator-item"><div>Scrap Rate</div><div>${scrapRate}%</div></div>
                <div class="operator-item"><div>Total Scrap</div><div>${totalScrap.toFixed(1)}</div></div>`;

            // Scrap by Activity Details
            const activityScrapData = selectedWeekData.fab.reduce((acc, row) => {
                acc[row['Activity Type']] = (acc[row['Activity Type']] || 0) + (row.Scrap || 0);
                return acc;
            }, {});
            const sortedActivities = Object.entries(activityScrapData).sort(([,a], [,b]) => b - a);
            document.getElementById('activityScrapAnalysis').innerHTML = sortedActivities.map(([activity, scrap]) => `
                <div class="operator-item"><div>${activity}</div><div>${scrap.toFixed(1)}</div></div>`).join('');
        }

        /**
         * Refreshes the dashboard data by calling loadData() again.
         */
        function refreshData() {
            loadData();
        }

        // Initial data load when the page loads
        document.addEventListener('DOMContentLoaded', loadData);
    </script>
</body>
</html>
'''

# --- Step 4: Define the file path in your Google Drive ---
# You can change the file name or path. This will save it to the root "My Drive" folder.
file_path = '/content/drive/MyDrive/production_dashboard.html'

# --- Step 5: Write the HTML content to the specified file path ---
try:
    with open(file_path, 'w', encoding='utf-8') as f:
        f.write(html_content)
    print(f"✅ Successfully saved dashboard to: {file_path}")
    print("You can now find and open this file in your Google Drive.")
except Exception as e:
    print(f"❌ An error occurred while writing the file: {e}")

# --- Step 6 (Optional): Display a preview in the Colab output ---
# Note: The dashboard's JavaScript might have issues fetching data
# from within the Colab environment due to security policies (CORS).
# It's best to open the generated HTML file from your Drive directly for full functionality.
print("\n--- Quick Preview (may not be fully functional) ---")
display(HTML(html_content))
